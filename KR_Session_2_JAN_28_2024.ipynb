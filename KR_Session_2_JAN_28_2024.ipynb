{
 "cells": [
  {
   "cell_type": "code",
   "execution_count": null,
   "id": "fd363498",
   "metadata": {},
   "outputs": [],
   "source": [
    "python : \n",
    "    \n",
    "1989 : 1991 : gudo van\n",
    "        \n",
    "1.x : 1994\n",
    "2.x : 2000 : 2.7 (EOL) : print \"hello\"\n",
    "3.x : 2008 : 3.11      : print(\"Hello\")  #2to3"
   ]
  },
  {
   "cell_type": "code",
   "execution_count": null,
   "id": "26e86004",
   "metadata": {},
   "outputs": [],
   "source": []
  },
  {
   "cell_type": "code",
   "execution_count": 3,
   "id": "34ab968d",
   "metadata": {},
   "outputs": [
    {
     "name": "stdout",
     "output_type": "stream",
     "text": [
      "\u0000\u0000\u0000\u0000\u0000\u0000\u0000\u0000\u0000\u0000\u0000\u0000\u0000\u0000\u0000\u0000\u0000\u0000\u0000\u0000\u0000\u0000\u0000\u0000\u0000\u0000\u0000\u0000\u0000\u0000\u0000\u0000\u0000\u0000\u0000\u0000\u0000\u0000\u0000\u0000\u0000\u0000\u0000\u0000\u0000\u0000\u0000\u0000\u0000\u0000\u0000\u0000\u0000\u0000\u0000\u0000\u0000\u0000\u0000\u0000\u0000\u0000\u0000\u0000\u0000\u0000\u0000\u0000\u0000\u0000\u0000\u0000\u0000\u0000\u0000\u0000\u0000\u0000\u0000\u0000\u0000\u0000\u0000\u0000\u0000\u0000\u0000\u0000\n",
      "Amit\n",
      "Deepak\n",
      "Ram\n",
      "Shyam 8912345678\n",
      "Sam\n",
      "Gopla 8932455\n",
      "Rohan  4523456789\n",
      "Gaurav \n",
      "7832541289\n",
      "\n"
     ]
    }
   ],
   "source": [
    "# simple : \n",
    "\n",
    "data=open(\"/Users/admin/Documents/abc123.txt\").read()\n",
    "print(data)"
   ]
  },
  {
   "cell_type": "code",
   "execution_count": null,
   "id": "367b684b",
   "metadata": {},
   "outputs": [],
   "source": [
    "#open source :\n",
    "#platform :\n",
    "#Daynamic:\n",
    "\n",
    "static : c,c++,java\n",
    "    \n",
    "    <data_type> <var_name>=<value>\n",
    "    int x=23\n",
    "    x=89\n",
    "\n",
    "\n",
    "dynamic :python,\n",
    "        <var_name>=<value>\n",
    "        x=34\n",
    "\n",
    "\n",
    "\n",
    "data :\n",
    "    \n",
    "host='192.168.0.1'\n",
    "port=22\n",
    "user=\"root\"\n",
    "\n"
   ]
  },
  {
   "cell_type": "code",
   "execution_count": 8,
   "id": "e0ed8462",
   "metadata": {},
   "outputs": [
    {
     "data": {
      "text/plain": [
       "str"
      ]
     },
     "execution_count": 8,
     "metadata": {},
     "output_type": "execute_result"
    }
   ],
   "source": [
    "x=\"Amit\"\n",
    "type(x)"
   ]
  },
  {
   "cell_type": "code",
   "execution_count": null,
   "id": "be3fafcb",
   "metadata": {},
   "outputs": [],
   "source": []
  }
 ],
 "metadata": {
  "kernelspec": {
   "display_name": "Python 3",
   "language": "python",
   "name": "python3"
  },
  "language_info": {
   "codemirror_mode": {
    "name": "ipython",
    "version": 3
   },
   "file_extension": ".py",
   "mimetype": "text/x-python",
   "name": "python",
   "nbconvert_exporter": "python",
   "pygments_lexer": "ipython3",
   "version": "3.8.3"
  }
 },
 "nbformat": 4,
 "nbformat_minor": 5
}
